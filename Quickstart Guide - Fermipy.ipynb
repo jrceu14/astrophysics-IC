{
 "cells": [
  {
   "cell_type": "markdown",
   "id": "90693dbd-7f69-4a14-ad22-c10522d31dde",
   "metadata": {
    "tags": []
   },
   "source": [
    "# Quickstart Guide - Fermipy\n",
    "#### https://fermipy.readthedocs.io/en/latest/quickstart.html"
   ]
  },
  {
   "cell_type": "markdown",
   "id": "b31dced9-a465-4263-81a0-dfc6fec26c54",
   "metadata": {
    "tags": []
   },
   "source": [
    "## Creating a Configuration File\n",
    "\n",
    "The first step is to compose a configuration file that **defines the data selection and analysis parameters**. Complete documentation on the configuration file and available options is given in the Configuration page. fermiPy uses the YAML format for its configuration files. The configuration file has a hierarchical organization that groups related parameters into separate dictionaries. In this example we will compose a configuration file for a SOURCE-class analysis of Markarian 421 with FRONT+BACK event types (evtype=3)"
   ]
  },
  {
   "cell_type": "markdown",
   "id": "4e47c60b-b7e3-42ab-b58f-d83ba341df24",
   "metadata": {},
   "source": [
    "```python\n",
    "data: # this section defines the input data set and spacecraft file for the analysis\n",
    "  evfile : ft1.lst  # points to a list of FT1 files that encompass the chosen ROI, energy range, and time selection\n",
    "  scfile : ft2.fits\n",
    "  ltcube : ltcube.fits\n",
    "\n",
    "binning: # parameters in this section define the ROI dimensions and the spatial and energy bin size \n",
    "  roiwidth   : 10.0\n",
    "  binsz      : 0.1\n",
    "  binsperdec : 8\n",
    "\n",
    "selection : # this section defines parameters related to the data selection (energy range, zmax cut, and event class/type)\n",
    "  emin : 100\n",
    "  emax : 316227.76\n",
    "  zmax    : 90\n",
    "  evclass : 128\n",
    "  evtype  : 3\n",
    "  tmin    : 239557414\n",
    "  tmax    : 428903014\n",
    "  filter  : null\n",
    "  target : 'mkn421' # defines the ROI center to have the same coordinates as the given source\n",
    "\n",
    "gtlike:\n",
    "  edisp : True\n",
    "  irfs : 'P8R2_SOURCE_V6'\n",
    "  edisp_disable : ['isodiff','galdiff']\n",
    "\n",
    "model: # this section defines parameters related to the ROI model definition (diffuse templates, point sources).\n",
    "  src_roiwidth : 15.0\n",
    "  galdiff  : '$FERMI_DIFFUSE_DIR/gll_iem_v06.fits'\n",
    "  isodiff  : 'iso_P8R2_SOURCE_V6_v06.txt'\n",
    "  catalogs : ['3FGL']\n",
    "```"
   ]
  },
  {
   "cell_type": "markdown",
   "id": "5eb16c3e-f264-44de-935b-d72e40177729",
   "metadata": {},
   "source": [
    "Fermipy gives the user the option to combine multiple data selections into a joint likelihood with the _components_ section. The components section contains a **list of dictionaries with the same hierarchy as the root analysis configuration**. Each element of the list defines the analysis parameters for an independent sub-selection of the data. Any parameters not defined within the component dictionary default to the value defined in the root configuration. The following example shows the components section that could be appended to the previous configuration to define a joint analysis with four PSF event types:\n",
    "\n",
    "```python\n",
    "components:\n",
    "  - { selection : { evtype : 4  } } # PSF0\n",
    "  - { selection : { evtype : 8  } } # PSF1\n",
    "  - { selection : { evtype : 16 } } # PSF2\n",
    "  - { selection : { evtype : 32 } } # PSF3\n",
    "```"
   ]
  },
  {
   "cell_type": "markdown",
   "id": "527ff980-6374-464d-bb7b-475b4301c4f5",
   "metadata": {},
   "source": [
    "Any configuration parameter can be changed with this mechanism. The following example is a configuration in which a different zmax selection and isotropic template is used for each of the four PSF event types:"
   ]
  },
  {
   "cell_type": "markdown",
   "id": "4ffb79ed-e541-4c3f-a195-a3438ac27a5e",
   "metadata": {},
   "source": [
    "```python\n",
    "components:\n",
    "  - model: {isodiff: isotropic_source_psf0_4years_P8V3.txt}\n",
    "    selection: {evtype: 4, zmax: 70}\n",
    "  - model: {isodiff: isotropic_source_psf1_4years_P8V3.txt}\n",
    "    selection: {evtype: 8, zmax: 75}\n",
    "  - model: {isodiff: isotropic_source_psf2_4years_P8V3.txt}\n",
    "    selection: {evtype: 16, zmax: 85}\n",
    "  - model: {isodiff: isotropic_source_psf3_4years_P8V3.txt}\n",
    "    selection: {evtype: 32, zmax: 90}\n",
    "```"
   ]
  },
  {
   "cell_type": "markdown",
   "id": "4901f5b1-3600-4d13-b7ab-0ec4b736d645",
   "metadata": {
    "tags": []
   },
   "source": [
    "## Creating an Analysis Script\n",
    "\n",
    "Once the configuration file has been composed, the analysis is executed by creating an instance of ***GTAnalysis*** with the configuration file as its argument and calling its analysis methods. ***GTAnalysis*** serves as a *wrapper* over the underlying pyLikelihood classes and **provides methods to fix/free parameters, add/remove sources from the model, and perform a fit to the ROI***.\n",
    "\n",
    "In the following python examples we show how to initialize and run a basic analysis of a source. First we instantiate a ***GTAnalysis*** object with the path to the configuration file and run ***setup()***\n",
    "\n",
    "The **setup()** method performs the data preparation and response calculations needed for the analysis (selecting the data, creating counts and exposure maps, etc.). Depending on the data selection and binning of the analysis this will often be the slowest step in the analysis sequence. The output of **setup()** is cached in the analysis working directory so subsequent calls to **setup()** will run much faster."
   ]
  },
  {
   "cell_type": "code",
   "execution_count": 10,
   "id": "15fc4adb-0c53-4eb5-b2c5-064aeb43db1a",
   "metadata": {},
   "outputs": [
    {
     "ename": "ModuleNotFoundError",
     "evalue": "No module named 'gammapy'",
     "output_type": "error",
     "traceback": [
      "\u001b[0;31m---------------------------------------------------------------------------\u001b[0m",
      "\u001b[0;31mModuleNotFoundError\u001b[0m                       Traceback (most recent call last)",
      "Input \u001b[0;32mIn [10]\u001b[0m, in \u001b[0;36m<cell line: 1>\u001b[0;34m()\u001b[0m\n\u001b[0;32m----> 1\u001b[0m \u001b[38;5;28;01mfrom\u001b[39;00m \u001b[38;5;21;01mfermipy\u001b[39;00m\u001b[38;5;21;01m.\u001b[39;00m\u001b[38;5;21;01mgtanalysis\u001b[39;00m \u001b[38;5;28;01mimport\u001b[39;00m GTAnalysis\n\u001b[1;32m      3\u001b[0m gta \u001b[38;5;241m=\u001b[39m GTAnalysis(\u001b[38;5;124m'\u001b[39m\u001b[38;5;124mconfig.yaml\u001b[39m\u001b[38;5;124m'\u001b[39m,logging\u001b[38;5;241m=\u001b[39m{\u001b[38;5;124m'\u001b[39m\u001b[38;5;124mverbosity\u001b[39m\u001b[38;5;124m'\u001b[39m : \u001b[38;5;241m3\u001b[39m})\n\u001b[1;32m      4\u001b[0m gta\u001b[38;5;241m.\u001b[39msetup()\n",
      "File \u001b[0;32m~/anaconda3/envs/IC/lib/python3.9/site-packages/fermipy/gtanalysis.py:15\u001b[0m, in \u001b[0;36m<module>\u001b[0;34m\u001b[0m\n\u001b[1;32m     13\u001b[0m \u001b[38;5;28;01mfrom\u001b[39;00m \u001b[38;5;21;01mastropy\u001b[39;00m\u001b[38;5;21;01m.\u001b[39;00m\u001b[38;5;21;01mio\u001b[39;00m \u001b[38;5;28;01mimport\u001b[39;00m fits\n\u001b[1;32m     14\u001b[0m \u001b[38;5;28;01mfrom\u001b[39;00m \u001b[38;5;21;01mastropy\u001b[39;00m\u001b[38;5;21;01m.\u001b[39;00m\u001b[38;5;21;01mtable\u001b[39;00m \u001b[38;5;28;01mimport\u001b[39;00m Table, Column, vstack\n\u001b[0;32m---> 15\u001b[0m \u001b[38;5;28;01mfrom\u001b[39;00m \u001b[38;5;21;01mgammapy\u001b[39;00m\u001b[38;5;21;01m.\u001b[39;00m\u001b[38;5;21;01mmaps\u001b[39;00m \u001b[38;5;28;01mimport\u001b[39;00m Map, HpxGeom, WcsGeom, MapAxis, WcsNDMap, HpxNDMap\n\u001b[1;32m     16\u001b[0m \u001b[38;5;28;01mimport\u001b[39;00m \u001b[38;5;21;01mfermipy\u001b[39;00m\n\u001b[1;32m     17\u001b[0m \u001b[38;5;28;01mimport\u001b[39;00m \u001b[38;5;21;01mfermipy\u001b[39;00m\u001b[38;5;21;01m.\u001b[39;00m\u001b[38;5;21;01mdefaults\u001b[39;00m \u001b[38;5;28;01mas\u001b[39;00m \u001b[38;5;21;01mdefaults\u001b[39;00m\n",
      "\u001b[0;31mModuleNotFoundError\u001b[0m: No module named 'gammapy'"
     ]
    }
   ],
   "source": [
    "from fermipy.gtanalysis import GTAnalysis\n",
    "\n",
    "gta = GTAnalysis('config.yaml',logging={'verbosity' : 3})\n",
    "gta.setup()"
   ]
  },
  {
   "cell_type": "markdown",
   "id": "9f59afde-5ae1-4dc0-9fb2-d9564415b059",
   "metadata": {},
   "source": [
    "Before running any other analysis methods it is recommended to first run ***optimize()***"
   ]
  },
  {
   "cell_type": "code",
   "execution_count": null,
   "id": "4238f979-b9d5-4273-87ba-844addd65687",
   "metadata": {},
   "outputs": [],
   "source": [
    "gta.optimize()"
   ]
  },
  {
   "cell_type": "markdown",
   "id": "bee8c833-1788-4441-9712-8fa9f85c09c6",
   "metadata": {},
   "source": [
    "This will loop over all model components in the ROI and fit their normalization and spectral shape parameters. This method also computes the TS of all sources which can be useful for identifying weak sources that could be fixed or removed from the model.\n",
    "\n",
    "We can check the results of the optimization step by calling ***print_roi()***"
   ]
  },
  {
   "cell_type": "code",
   "execution_count": null,
   "id": "9032408a-8c96-4336-8a91-a7ac33bc01e9",
   "metadata": {},
   "outputs": [],
   "source": [
    "gta.print_roi()"
   ]
  },
  {
   "cell_type": "markdown",
   "id": "a8a149c0-9dbb-4bf8-a50a-8ee6b711bd5e",
   "metadata": {
    "tags": []
   },
   "source": [
    "By default all models parameters are initially fixed. The ***free_source()*** and ***free_sources()*** methods can be use to free or fix parameters of the model. In the following example we free the normalization of catalog sources within 3 deg of the ROI center and free the galactic and isotropic components by name."
   ]
  },
  {
   "cell_type": "code",
   "execution_count": null,
   "id": "694b32a3-68c9-4582-9875-729fcdad223d",
   "metadata": {},
   "outputs": [],
   "source": [
    "# Free Normalization of all Sources within 3 deg of ROI center\n",
    "gta.free_sources(distance=3.0,pars='norm')\n",
    "\n",
    "# Free all parameters of isotropic and galactic diffuse components\n",
    "gta.free_source('galdiff')\n",
    "gta.free_source('isodiff')"
   ]
  },
  {
   "cell_type": "markdown",
   "id": "1dbe69aa-6781-4a74-b671-2b301d1d53da",
   "metadata": {
    "jp-MarkdownHeadingCollapsed": true,
    "tags": []
   },
   "source": [
    "The minmax_ts and minmax_npred arguments to free_sources() can be used to free or fixed sources on the basis of their current TS or Npred values:"
   ]
  },
  {
   "cell_type": "code",
   "execution_count": null,
   "id": "379b2bd8-9b2e-4968-8ff5-7c11bb588ad7",
   "metadata": {},
   "outputs": [],
   "source": [
    "# Free sources with TS > 10\n",
    "gta.free_sources(minmax_ts=[10,None],pars='norm')\n",
    "\n",
    "# Fix sources with TS < 10\n",
    "gta.free_sources(minmax_ts=[None,10],free=False,pars='norm')\n",
    "\n",
    "# Fix sources with 10 < Npred < 100\n",
    "gta.free_sources(minmax_npred=[10,100],free=False,pars='norm')"
   ]
  },
  {
   "cell_type": "markdown",
   "id": "4bf3d5bb-1317-456a-a42c-1b3c1c0e1a1f",
   "metadata": {},
   "source": [
    "When passing a source name argument both case and whitespace are ignored. When using a FITS catalog file a source can also be referred to by any of its associations. When using the 3FGL catalog, the following calls are equivalent ways of freeing the parameters of Mkn 421:"
   ]
  },
  {
   "cell_type": "code",
   "execution_count": null,
   "id": "cbec2a36-82f6-4af0-94e9-d6b921466089",
   "metadata": {},
   "outputs": [],
   "source": [
    "# These calls are equivalent\n",
    "gta.free_source('mkn421')\n",
    "gta.free_source('Mkn 421')\n",
    "gta.free_source('3FGL J1104.4+3812')\n",
    "gta.free_source('3fglj1104.4+3812')"
   ]
  },
  {
   "cell_type": "markdown",
   "id": "ca455810-6955-4576-acad-0135ccbcb8c5",
   "metadata": {},
   "source": [
    "After freeing parameters of the model we can execute a fit by calling fit(). The will maximize the likelihood with respect to the model parameters that are currently free.\n"
   ]
  },
  {
   "cell_type": "code",
   "execution_count": null,
   "id": "00c4495c-29ea-468a-909f-f39380f642a3",
   "metadata": {},
   "outputs": [],
   "source": [
    "gta.fit()"
   ]
  },
  {
   "cell_type": "markdown",
   "id": "50d55a5b-c493-480c-8ae0-4ec185daffd9",
   "metadata": {},
   "source": [
    "After the fitting is complete we can write the current state of the model with write_roi:\n"
   ]
  },
  {
   "cell_type": "code",
   "execution_count": null,
   "id": "1ee6614a-ece7-4fd6-9c05-22127825d4f3",
   "metadata": {},
   "outputs": [],
   "source": [
    "gta.write_roi('fit_model')"
   ]
  },
  {
   "cell_type": "markdown",
   "id": "d876a709-d607-413d-bed2-18d2513d9cf6",
   "metadata": {},
   "source": [
    "This will write several output files including an XML model file and an ROI dictionary file. The names of all output files will be prepended with the prefix argument to **write_roi()**.\n",
    "\n",
    "Once we have optimized our model for the ROI we can use the residmap() and tsmap() methods to assess the fit quality and look for new sources."
   ]
  },
  {
   "cell_type": "code",
   "execution_count": 11,
   "id": "02faa752-be9c-4cb0-b199-4098dd045e21",
   "metadata": {},
   "outputs": [
    {
     "ename": "NameError",
     "evalue": "name 'gta' is not defined",
     "output_type": "error",
     "traceback": [
      "\u001b[0;31m---------------------------------------------------------------------------\u001b[0m",
      "\u001b[0;31mNameError\u001b[0m                                 Traceback (most recent call last)",
      "Input \u001b[0;32mIn [11]\u001b[0m, in \u001b[0;36m<cell line: 6>\u001b[0;34m()\u001b[0m\n\u001b[1;32m      2\u001b[0m model \u001b[38;5;241m=\u001b[39m {\u001b[38;5;124m'\u001b[39m\u001b[38;5;124mSpatialModel\u001b[39m\u001b[38;5;124m'\u001b[39m : \u001b[38;5;124m'\u001b[39m\u001b[38;5;124mPointSource\u001b[39m\u001b[38;5;124m'\u001b[39m, \u001b[38;5;124m'\u001b[39m\u001b[38;5;124mIndex\u001b[39m\u001b[38;5;124m'\u001b[39m : \u001b[38;5;241m2.0\u001b[39m,\n\u001b[1;32m      3\u001b[0m          \u001b[38;5;124m'\u001b[39m\u001b[38;5;124mSpectrumType\u001b[39m\u001b[38;5;124m'\u001b[39m : \u001b[38;5;124m'\u001b[39m\u001b[38;5;124mPowerLaw\u001b[39m\u001b[38;5;124m'\u001b[39m}\n\u001b[1;32m      5\u001b[0m \u001b[38;5;66;03m# Both methods return a dictionary with the maps\u001b[39;00m\n\u001b[0;32m----> 6\u001b[0m m0 \u001b[38;5;241m=\u001b[39m \u001b[43mgta\u001b[49m\u001b[38;5;241m.\u001b[39mresidmap(\u001b[38;5;124m'\u001b[39m\u001b[38;5;124mfit_model\u001b[39m\u001b[38;5;124m'\u001b[39m, model\u001b[38;5;241m=\u001b[39mmodel, make_plots\u001b[38;5;241m=\u001b[39m\u001b[38;5;28;01mTrue\u001b[39;00m)\n\u001b[1;32m      7\u001b[0m m1 \u001b[38;5;241m=\u001b[39m gta\u001b[38;5;241m.\u001b[39mtsmap(\u001b[38;5;124m'\u001b[39m\u001b[38;5;124mfit_model\u001b[39m\u001b[38;5;124m'\u001b[39m, model\u001b[38;5;241m=\u001b[39mmodel, make_plots\u001b[38;5;241m=\u001b[39m\u001b[38;5;28;01mTrue\u001b[39;00m)\n",
      "\u001b[0;31mNameError\u001b[0m: name 'gta' is not defined"
     ]
    }
   ],
   "source": [
    "# Dictionary defining the spatial/spectral parameters of the test source\n",
    "model = {'SpatialModel' : 'PointSource', 'Index' : 2.0,\n",
    "         'SpectrumType' : 'PowerLaw'}\n",
    "\n",
    "# Both methods return a dictionary with the maps\n",
    "m0 = gta.residmap('fit_model', model=model, make_plots=True)\n",
    "m1 = gta.tsmap('fit_model', model=model, make_plots=True)"
   ]
  },
  {
   "cell_type": "markdown",
   "id": "7e4e85eb-7097-499b-ae93-2a26222a777d",
   "metadata": {},
   "source": [
    "More documentation on these methods is available in the TS Map (https://fermipy.readthedocs.io/en/latest/advanced/tsmap.html#tsmap) and Residual Map (https://fermipy.readthedocs.io/en/latest/advanced/residmap.html#residmap) pages.\n",
    "\n",
    "By default, calls to fit() will execute a global spectral fit over the entire energy range of the analysis. To extract a bin-by-bin flux spectrum (i.e. a SED) you can call sed() method with the name of the source:\n",
    "\n",
    "-> More information about sed() method can be found in the SED Analysis page: https://fermipy.readthedocs.io/en/latest/advanced/sed.html#sed"
   ]
  },
  {
   "cell_type": "code",
   "execution_count": null,
   "id": "a73588ce-23dd-4fb9-a485-50e80d7d6d10",
   "metadata": {},
   "outputs": [],
   "source": [
    "gta.sed('mkn421', make_plots=True)"
   ]
  },
  {
   "cell_type": "markdown",
   "id": "4adca449-3224-47de-939f-99ddff063811",
   "metadata": {},
   "source": [
    "## Extracting Analysis Results"
   ]
  },
  {
   "cell_type": "markdown",
   "id": "c4a58f77-a20d-420e-b45f-391942041abe",
   "metadata": {},
   "source": [
    "Results of the analysis can be extracted from the dictionary file written by write_roi(). This method writes information about the current state of the analysis to a python dictionary. More documentation on the contents of the output file are available in the Output File page.\n",
    "\n",
    "By default the output dictionary is written to a file in the numpy format and can be loaded from a python session after your analysis is complete. The following demonstrates how to load the analysis dictionary that was written to fit_model.npy in the Mkn421 analysis example:"
   ]
  },
  {
   "cell_type": "code",
   "execution_count": null,
   "id": "f5105d92-15f3-4a49-8bd1-f00aace7f82b",
   "metadata": {},
   "outputs": [],
   "source": [
    "# Load analysis dictionary from a npy file\n",
    "import np\n",
    "c = np.load('fit_model.npy').flat[0]\n",
    "list(c.keys())\n",
    "['roi', 'config', 'sources', 'version']\n",
    "\n",
    "# The output dictionary contains the following top-level elements:"
   ]
  },
  {
   "cell_type": "markdown",
   "id": "234ac927-495d-4910-a573-e11b2106b1c4",
   "metadata": {},
   "source": [
    "Each source dictionary collects the properties of the given source (TS, NPred, best-fit parameters, etc.) computed up to that point in the analysis."
   ]
  },
  {
   "cell_type": "code",
   "execution_count": null,
   "id": "75d95df5-a39a-47b6-aae2-46510dcec915",
   "metadata": {},
   "outputs": [],
   "source": [
    ">>> list(c['sources'].keys())\n",
    "'''['3FGL J1032.7+3735',\n",
    "'3FGL J1033.2+4116',\n",
    "...\n",
    "'3FGL J1145.8+4425',\n",
    "'galdiff',\n",
    "'isodiff']'''\n",
    ">>> c['sources']['3FGL J1104.4+3812']['ts']\n",
    "#87455.9709683\n",
    ">>> c['sources']['3FGL J1104.4+3812']['npred']\n",
    "#31583.7166495"
   ]
  },
  {
   "cell_type": "markdown",
   "id": "7b94a2f0-f5f4-411f-a5f6-698c22ffa4f0",
   "metadata": {},
   "source": [
    "Information about individual sources in the ROI is also saved to a catalog FITS file with the same string prefix as the dictionary file. This file can be loaded with the astropy.io.fits or astropy.table.Table interface:"
   ]
  },
  {
   "cell_type": "code",
   "execution_count": null,
   "id": "88c4f721-b10b-40cf-a515-1c1030d65be7",
   "metadata": {},
   "outputs": [],
   "source": [
    ">>> # Load the source catalog file\n",
    ">>> from astropy.table import Table\n",
    ">>> tab = Table.read('fit_model.fits')\n",
    ">>> tab[['name','class','ts','npred','flux']]\n",
    "'''    name       class       ts           npred                    flux [2]\n",
    "                                                               1 / (cm2 s)\n",
    "----------------- ----- -------------- ------------- --------------------------------------\n",
    "3FGL J1104.4+3812   BLL  87455.9709683 31583.7166495 2.20746290445e-07 .. 1.67062058528e-09\n",
    "3FGL J1109.6+3734   bll    42.34511826 93.7971922425  5.90635786943e-10 .. 3.6620894143e-10\n",
    "...\n",
    "3FGL J1136.4+3405  fsrq  4.78089819776 261.427034151 1.86805869704e-08 .. 8.62638727067e-09\n",
    "3FGL J1145.8+4425  fsrq  3.78006883967 237.525501441 7.25611442299e-08 .. 3.77056557247e-08\n",
    "'''"
   ]
  },
  {
   "cell_type": "markdown",
   "id": "5e486fb0-b2da-468b-80c8-c62b7c7d5532",
   "metadata": {},
   "source": [
    "The FITS file contains columns for all scalar and vector elements of the source dictionary. Spectral fit parameters are contained in the param_names, param_values, and param_errors columns:"
   ]
  },
  {
   "cell_type": "code",
   "execution_count": null,
   "id": "1a1fdcba-20a4-44d1-b9d2-a7964515d78e",
   "metadata": {},
   "outputs": [],
   "source": [
    "tab[['param_names','param_values','param_errors']][0]\n",
    "'''<Row 0 of table\n",
    " values=(['Prefactor', 'Index', 'Scale', '', '', ''],\n",
    "         [2.1301351784512767e-11, -1.7716399431228638, 1187.1300048828125, nan, nan, nan],\n",
    "         [1.6126233510314277e-13, nan, nan, nan, nan, nan])\n",
    " dtype=[('param_names', 'S32', (6,)),\n",
    "        ('param_values', '>f8', (6,)),\n",
    "        ('param_errors', '>f8', (6,))]>'''"
   ]
  },
  {
   "cell_type": "markdown",
   "id": "167aeaf8-90fe-4a39-8f07-96222f508188",
   "metadata": {},
   "source": [
    "## Reloading from a Previous State"
   ]
  },
  {
   "cell_type": "markdown",
   "id": "43868d09-1f28-40ac-911e-bfd3802ec857",
   "metadata": {},
   "source": [
    "One can reload an analysis instance that was saved with write_roi() by calling either the create() or load_roi() methods. The create() method can be used to construct an entirely new instance of GTAnalysis from a previously saved results file:"
   ]
  },
  {
   "cell_type": "code",
   "execution_count": null,
   "id": "ce156cfc-26d0-461e-be23-83c0f6d48f90",
   "metadata": {},
   "outputs": [],
   "source": [
    "from fermipy.gtanalysis import GTAnalysis\n",
    "gta = GTAnalysis.create('fit_model.npy')\n",
    "\n",
    "# Continue running analysis starting from the previously saved\n",
    "# state\n",
    "gta.fit()"
   ]
  },
  {
   "cell_type": "markdown",
   "id": "35337353-dbbf-4dab-880e-1719eee74751",
   "metadata": {},
   "source": [
    "where the argument is the path to an output file produced with write_roi(). This function will instantiate a new analysis object, run the setup() method, and load the state of the model parameters at the time that write_roi() was called.\n",
    "\n",
    "The load_roi() method can be used to reload a previous state of the analysis to an existing instance of GTAnalysis."
   ]
  },
  {
   "cell_type": "code",
   "execution_count": null,
   "id": "ab46fcfe-08da-4b02-b9ea-fd7c9570db56",
   "metadata": {},
   "outputs": [],
   "source": [
    "from fermipy.gtanalysis import GTAnalysis\n",
    "\n",
    "gta = GTAnalysis('config.yaml')\n",
    "gta.setup()\n",
    "\n",
    "gta.write_roi('prefit_model')\n",
    "\n",
    "# Fit a source\n",
    "gta.free_source('mkn421')\n",
    "gta.fit()\n",
    "\n",
    "# Restore the analysis to its prior state before the fit of mkn421\n",
    "# was executed\n",
    "gta.load_roi('prefit_model')"
   ]
  },
  {
   "cell_type": "markdown",
   "id": "a905a680-767c-48a0-8a6a-cb80e333e654",
   "metadata": {},
   "source": [
    "Using load_roi() is generally faster than create() when an analysis instance already exists."
   ]
  }
 ],
 "metadata": {
  "kernelspec": {
   "display_name": "IC",
   "language": "python",
   "name": "ic"
  },
  "language_info": {
   "codemirror_mode": {
    "name": "ipython",
    "version": 3
   },
   "file_extension": ".py",
   "mimetype": "text/x-python",
   "name": "python",
   "nbconvert_exporter": "python",
   "pygments_lexer": "ipython3",
   "version": "3.9.12"
  }
 },
 "nbformat": 4,
 "nbformat_minor": 5
}
